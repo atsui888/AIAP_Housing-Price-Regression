{
 "cells": [
  {
   "cell_type": "markdown",
   "metadata": {},
   "source": [
    "# AIAP Housing Price Assignment"
   ]
  },
  {
   "cell_type": "markdown",
   "metadata": {},
   "source": [
    "# Part 1 - EDA\n",
    "\n",
    "* Analyse Data and explain findings\n",
    "* Clean Data and do filter methds (they work for all ml models)\n",
    "* Use appropriate visualisations\n",
    "e.g. sns.pairplot(df); maybe it implies a certain model can be used e.g. linear relationship??\n",
    "* Explain what it means\n",
    "* Explain implications\n"
   ]
  },
  {
   "cell_type": "markdown",
   "metadata": {},
   "source": [
    "# Imports"
   ]
  },
  {
   "cell_type": "code",
   "execution_count": 1,
   "metadata": {},
   "outputs": [],
   "source": [
    "# numerical libs and data handing\n",
    "import numpy as np\n",
    "import pandas as pd\n",
    "\n",
    "# visualisation\n",
    "import matplotlib.pyplot as plt\n",
    "from pandas.plotting import scatter_matrix\n",
    "import seaborn as sns\n",
    "from sklearn.manifold import TSNE\n",
    "\n",
    "# Data Preprocessing\n",
    "from sklearn.model_selection import train_test_split\n",
    "from sklearn.feature_selection import VarianceThreshold\n",
    "from sklearn.preprocessing import StandardScaler\n",
    "from sklearn.model_selection import train_test_split\n",
    "\n",
    "import geohash2 # for latitude/longtitude feature engineering\n",
    "# https://anaconda.org/conda-forge/geohash2\n",
    "\n",
    "# Dimensionality Reduction\n",
    "from sklearn.decomposition import PCA\n",
    "\n",
    "# ML Model\n",
    "from sklearn.linear_model import LinearRegression\n",
    "from sklearn.model_selection import KFold\n",
    "from sklearn.cluster import KMeans\n",
    "import xgboost as xgb\n",
    "#import sklearn.linear_model as linear_model\n",
    "# neural networks?\n",
    "# K-Nearest Neighbors vs KMeans\n",
    "# random forest?\n",
    "\n",
    "# Pipeline\n",
    "from sklearn.pipeline import Pipeline\n",
    "\n",
    "# ipython display\n",
    "%matplotlib inline\n",
    "#pd.options.display.max_rows = 1000\n",
    "#pd.options.display.max_columns = 20\n",
    "\n",
    "import warnings\n",
    "warnings.filterwarnings(\"ignore\", category=FutureWarning)\n",
    "warnings.filterwarnings(\"ignore\", category=DeprecationWarning)\n",
    "#warnings.filterwarnings(\"ignore\")"
   ]
  },
  {
   "cell_type": "markdown",
   "metadata": {},
   "source": [
    "# Globals and Switches"
   ]
  },
  {
   "cell_type": "code",
   "execution_count": 2,
   "metadata": {},
   "outputs": [],
   "source": [
    "# setting the number of cross validations used in the Model part \n",
    "cvNum = 5\n",
    "\n",
    "# on/off switch for using log values for House Price and features     \n",
    "use_logvals = 1    \n",
    "\n",
    "# target used for correlation \n",
    "target = 'Y house price of unit area'\n",
    "\n",
    "# attributes shortcuts\n",
    "x1 = 'X1 transaction date'\n",
    "x2 = 'X2 house age'\n",
    "x3 = 'X3 distance to the nearest MRT station'\n",
    "x4 = 'X4 number of convenience stores'\n",
    "x5 = 'X5 latitude'\n",
    "x6 = 'X6 longitude'\n",
    "\n",
    "# only columns with correlation above this threshold value are used for the ML Regressors \n",
    "corr_Floor = 0.4    \n",
    "    \n",
    "# on/off switch for dropping columns that are similar to others already used and show a high correlation to these     \n",
    "drop_similar = 1"
   ]
  },
  {
   "cell_type": "markdown",
   "metadata": {},
   "source": [
    "# Functions"
   ]
  },
  {
   "cell_type": "markdown",
   "metadata": {},
   "source": [
    " # Load Data"
   ]
  },
  {
   "cell_type": "code",
   "execution_count": 3,
   "metadata": {},
   "outputs": [],
   "source": [
    "df = pd.read_csv('https://aisgaiap.blob.core.windows.net/aiap4-assessment/real_estate.csv')"
   ]
  },
  {
   "cell_type": "markdown",
   "metadata": {},
   "source": [
    "# Split Data into Train / Test sets"
   ]
  },
  {
   "cell_type": "code",
   "execution_count": 4,
   "metadata": {},
   "outputs": [],
   "source": [
    "X_train, X_test, y_train, y_test = train_test_split(df.drop([target],axis=1), df[target], test_size=0.33, random_state=88)"
   ]
  },
  {
   "cell_type": "markdown",
   "metadata": {},
   "source": [
    "# EDA"
   ]
  },
  {
   "cell_type": "code",
   "execution_count": 5,
   "metadata": {},
   "outputs": [
    {
     "name": "stdout",
     "output_type": "stream",
     "text": [
      "\n",
      "The train dataset consists of 414 rows and 8 columns.\n",
      "\n",
      "The columns are\n",
      "\n",
      "Index(['No', 'X1 transaction date', 'X2 house age',\n",
      "       'X3 distance to the nearest MRT station',\n",
      "       'X4 number of convenience stores', 'X5 latitude', 'X6 longitude',\n",
      "       'Y house price of unit area'],\n",
      "      dtype='object')\n",
      "\n",
      "The column \"No\" is a unique identifier that has no informational value to the machine learning model.\n",
      "The columns with \"Xn\" in it are attributes that may have informational value.\n",
      "The column with \"Y\" is the target variable\n",
      "\n",
      "\n",
      "A sample of 3 rows shows the following:\n",
      "      No  X1 transaction date  X2 house age  \\\n",
      "53    54             2013.083          13.3   \n",
      "179  180             2013.083          14.0   \n",
      "76    77             2013.583          35.9   \n",
      "\n",
      "     X3 distance to the nearest MRT station  X4 number of convenience stores  \\\n",
      "53                                 492.2313                                5   \n",
      "179                                438.8513                                1   \n",
      "76                                 616.4004                                3   \n",
      "\n",
      "     X5 latitude  X6 longitude  Y house price of unit area  \n",
      "53      24.96515     121.53737                        38.9  \n",
      "179     24.97493     121.52730                        42.6  \n",
      "76      24.97723     121.53767                        36.8  \n",
      "\n",
      "Quantitative variables in this dataset are:\n",
      "['No', 'X1 transaction date', 'X2 house age', 'X3 distance to the nearest MRT station', 'X4 number of convenience stores', 'X5 latitude', 'X6 longitude', 'Y house price of unit area']\n",
      "\n",
      "Qualitative variables in this dataset are:\n",
      "[]\n",
      "\n",
      "X and y are all numeric data, there is no need to transform / transcode the data.\n"
     ]
    }
   ],
   "source": [
    "print('\\nThe train dataset consists of {} rows and {} columns.'.format(df.shape[0],df.shape[1]))\n",
    "\n",
    "print('\\nThe columns are\\n\\n{}'.format(df.columns))\n",
    "print('\\nThe column \"No\" is a unique identifier that has no informational value to the machine learning model.')\n",
    "print('The columns with \"Xn\" in it are attributes that may have informational value.')\n",
    "print('The column with \"Y\" is the target variable')\n",
    "      \n",
    "\n",
    "print('\\n\\nA sample of 3 rows shows the following:\\n{}'.format(df.sample(3)))\n",
    "\n",
    "\n",
    "quantitative = [f for f in df.columns if df.dtypes[f] != 'object']\n",
    "print('\\nQuantitative variables in this dataset are:\\n{}'.format(quantitative))\n",
    "\n",
    "qualitative = [f for f in df.columns if df.dtypes[f] == 'object']\n",
    "print('\\nQualitative variables in this dataset are:\\n{}'.format(qualitative))\n",
    "\n",
    "print('\\nX and y are all numeric data, there is no need to transform / transcode the data.')"
   ]
  },
  {
   "cell_type": "markdown",
   "metadata": {},
   "source": [
    "# Data Cleansing"
   ]
  },
  {
   "cell_type": "markdown",
   "metadata": {},
   "source": [
    "### Remove Identifier Columns\n",
    "Remove columns that serve has unique identifiers as they add no informational value to the ML model\n"
   ]
  },
  {
   "cell_type": "code",
   "execution_count": 6,
   "metadata": {},
   "outputs": [],
   "source": [
    "# Remove Identifier column/s\n",
    "if 'No' in X_train:\n",
    "    X_train.drop(['No'],axis=1,inplace=True)   \n"
   ]
  },
  {
   "cell_type": "markdown",
   "metadata": {},
   "source": [
    "After removing the identifier columns, the housing price data consists of 7 attributes as follows:\n",
    "\n",
    "X1 = the transaction date (for example, 2013.250=2013 March, 2013.500=2013 June, etc.) - <i>categorical</i>\n",
    "\n",
    "X2 = the house age (unit: year) - <i>quantitative</i>\n",
    "\n",
    "X3 = the distance to the nearest MRT station (unit: meter) -  <i>quantitative</i>\n",
    "\n",
    "X4 = the number of convenience stores in the living circle on foot (integer) - <i>quantitative</i>\n",
    "\n",
    "X5 = the geographic coordinate, latitude. (unit: degree)\n",
    "\n",
    "X6 = the geographic coordinate, longitude. (unit: degree)\n",
    "\n",
    "-------------------------------------------------\n",
    "\n",
    "The target variable is:\n",
    "Y = house price of unit area (10000 New Taiwan Dollar/Ping, where Ping is a local unit, 1 Ping = 3.3 meter squared)\n",
    "\n",
    " "
   ]
  },
  {
   "cell_type": "markdown",
   "metadata": {},
   "source": [
    "### Check for Missing Values"
   ]
  },
  {
   "cell_type": "code",
   "execution_count": 7,
   "metadata": {},
   "outputs": [
    {
     "name": "stdout",
     "output_type": "stream",
     "text": [
      "\n",
      "Number of missing values are:\n",
      "No                                        0\n",
      "X1 transaction date                       0\n",
      "X2 house age                              0\n",
      "X3 distance to the nearest MRT station    0\n",
      "X4 number of convenience stores           0\n",
      "X5 latitude                               0\n",
      "X6 longitude                              0\n",
      "Y house price of unit area                0\n",
      "dtype: int64\n",
      "\n",
      "Most Machine Learning models do not handle missing values well. In this case, \n",
      "as there are no missing values, we do not need to consider if we should drop \n",
      "observations or impute values\n"
     ]
    }
   ],
   "source": [
    "print('\\nNumber of missing values are:\\n{}'.format(df.isnull().sum()))\n",
    "print('\\nMost Machine Learning models do not handle missing values well. In this case, \\nas \\\n",
    "there are no missing values, we do not need to consider if we should drop \\nobservations or \\\n",
    "impute values')"
   ]
  },
  {
   "cell_type": "markdown",
   "metadata": {},
   "source": [
    "# Distribution of the target variable\n",
    "Y house price of unit area"
   ]
  },
  {
   "cell_type": "code",
   "execution_count": 8,
   "metadata": {},
   "outputs": [
    {
     "name": "stdout",
     "output_type": "stream",
     "text": [
      "Skewness: 0.7562747585024606\n",
      "Kurtosis: 2.460209611316714\n"
     ]
    },
    {
     "data": {
      "image/png": "[encoded data removed]",
      "text/plain": [
       "<Figure size 432x288 with 1 Axes>"
      ]
     },
     "metadata": {
      "needs_background": "light"
     },
     "output_type": "display_data"
    }
   ],
   "source": [
    "sns.distplot(y_train)\n",
    "\n",
    "#skewness and kurtosis\n",
    "print(\"Skewness: {}\".format(y_train.skew()))\n",
    "print(\"Kurtosis: {}\".format(y_train.kurt()))\n"
   ]
  },
  {
   "cell_type": "markdown",
   "metadata": {},
   "source": [
    "* https://scikit-learn.org/stable/modules/preprocessing.html\n",
    "\n",
    "Target variable 'Y house price of unit area' is not normally distributed. This can reduce the performance of the ML regression models because some models assume normal distribution.\n",
    "\n",
    "Hence, we make a log transformation."
   ]
  },
  {
   "cell_type": "code",
   "execution_count": 9,
   "metadata": {},
   "outputs": [
    {
     "name": "stdout",
     "output_type": "stream",
     "text": [
      "Skewness: -0.5308642756959739\n",
      "Kurtosis: 0.12198870635737791\n"
     ]
    },
    {
     "data": {
      "image/png": "[encoded data removed]",
      "text/plain": [
       "<Figure size 432x288 with 1 Axes>"
      ]
     },
     "metadata": {
      "needs_background": "light"
     },
     "output_type": "display_data"
    }
   ],
   "source": [
    "y_train = np.log(y_train)\n",
    "\n",
    "sns.distplot(y_train)\n",
    "\n",
    "#skewness and kurtosis\n",
    "print(\"Skewness: {}\".format(y_train.skew()))\n",
    "print(\"Kurtosis: {}\".format(y_train.kurt()))\n"
   ]
  },
  {
   "cell_type": "markdown",
   "metadata": {},
   "source": [
    "* https://codeburst.io/2-important-statistics-terms-you-need-to-know-in-data-science-skewness-and-kurtosis-388fef94eeaa\n",
    "\n",
    "<i>Heuristic for skewness:</i>\n",
    "    \n",
    "fairly symmetrical : between(-0.5 && <= 0.5)\n",
    "\n",
    "moderately skewed  : between(-1.0 && -0.5) || between(0.5 && 1.0)\n",
    "\n",
    "highly skewed      : <-1 || > 1\n",
    "\n",
    "where -'ve skew is where left side of the distribution is longer and vice versa for +'ve skew\n",
    "\n",
    "<br>\n",
    "\n",
    "<i>Kurtosis</i>\n",
    "\n",
    "the measure of outliers present in the distribution.\n",
    "\n",
    "Heuristic: -3.0 to 3.0 is acceptable\n",
    "\n",
    "Hence, the new logged distribution for the target is better.\n"
   ]
  },
  {
   "cell_type": "markdown",
   "metadata": {},
   "source": [
    "# Identify features with strong correlation to target\n",
    "\n",
    "Relation of features to target (Y Housing Price)"
   ]
  },
  {
   "cell_type": "code",
   "execution_count": 10,
   "metadata": {},
   "outputs": [
    {
     "data": {
      "text/html": [
       "<div>\n",
       "<style scoped>\n",
       "    .dataframe tbody tr th:only-of-type {\n",
       "        vertical-align: middle;\n",
       "    }\n",
       "\n",
       "    .dataframe tbody tr th {\n",
       "        vertical-align: top;\n",
       "    }\n",
       "\n",
       "    .dataframe thead th {\n",
       "        text-align: right;\n",
       "    }\n",
       "</style>\n",
       "<table border=\"1\" class=\"dataframe\">\n",
       "  <thead>\n",
       "    <tr style=\"text-align: right;\">\n",
       "      <th></th>\n",
       "      <th>X1 transaction date</th>\n",
       "      <th>X2 house age</th>\n",
       "      <th>X3 distance to the nearest MRT station</th>\n",
       "      <th>X4 number of convenience stores</th>\n",
       "      <th>X5 latitude</th>\n",
       "      <th>X6 longitude</th>\n",
       "      <th>Y house price of unit area</th>\n",
       "    </tr>\n",
       "  </thead>\n",
       "  <tbody>\n",
       "    <tr>\n",
       "      <th>X1 transaction date</th>\n",
       "      <td>1.000000</td>\n",
       "      <td>-0.032792</td>\n",
       "      <td>0.028306</td>\n",
       "      <td>0.026488</td>\n",
       "      <td>0.100413</td>\n",
       "      <td>-0.023486</td>\n",
       "      <td>0.125001</td>\n",
       "    </tr>\n",
       "    <tr>\n",
       "      <th>X2 house age</th>\n",
       "      <td>-0.032792</td>\n",
       "      <td>1.000000</td>\n",
       "      <td>0.011579</td>\n",
       "      <td>0.093652</td>\n",
       "      <td>0.075280</td>\n",
       "      <td>-0.022327</td>\n",
       "      <td>-0.174232</td>\n",
       "    </tr>\n",
       "    <tr>\n",
       "      <th>X3 distance to the nearest MRT station</th>\n",
       "      <td>0.028306</td>\n",
       "      <td>0.011579</td>\n",
       "      <td>1.000000</td>\n",
       "      <td>-0.619134</td>\n",
       "      <td>-0.587114</td>\n",
       "      <td>-0.779130</td>\n",
       "      <td>-0.778382</td>\n",
       "    </tr>\n",
       "    <tr>\n",
       "      <th>X4 number of convenience stores</th>\n",
       "      <td>0.026488</td>\n",
       "      <td>0.093652</td>\n",
       "      <td>-0.619134</td>\n",
       "      <td>1.000000</td>\n",
       "      <td>0.465927</td>\n",
       "      <td>0.421933</td>\n",
       "      <td>0.602795</td>\n",
       "    </tr>\n",
       "    <tr>\n",
       "      <th>X5 latitude</th>\n",
       "      <td>0.100413</td>\n",
       "      <td>0.075280</td>\n",
       "      <td>-0.587114</td>\n",
       "      <td>0.465927</td>\n",
       "      <td>1.000000</td>\n",
       "      <td>0.384123</td>\n",
       "      <td>0.648796</td>\n",
       "    </tr>\n",
       "    <tr>\n",
       "      <th>X6 longitude</th>\n",
       "      <td>-0.023486</td>\n",
       "      <td>-0.022327</td>\n",
       "      <td>-0.779130</td>\n",
       "      <td>0.421933</td>\n",
       "      <td>0.384123</td>\n",
       "      <td>1.000000</td>\n",
       "      <td>0.577637</td>\n",
       "    </tr>\n",
       "    <tr>\n",
       "      <th>Y house price of unit area</th>\n",
       "      <td>0.125001</td>\n",
       "      <td>-0.174232</td>\n",
       "      <td>-0.778382</td>\n",
       "      <td>0.602795</td>\n",
       "      <td>0.648796</td>\n",
       "      <td>0.577637</td>\n",
       "      <td>1.000000</td>\n",
       "    </tr>\n",
       "  </tbody>\n",
       "</table>\n",
       "</div>"
      ],
      "text/plain": [
       "                                        X1 transaction date  X2 house age  \\\n",
       "X1 transaction date                                1.000000     -0.032792   \n",
       "X2 house age                                      -0.032792      1.000000   \n",
       "X3 distance to the nearest MRT station             0.028306      0.011579   \n",
       "X4 number of convenience stores                    0.026488      0.093652   \n",
       "X5 latitude                                        0.100413      0.075280   \n",
       "X6 longitude                                      -0.023486     -0.022327   \n",
       "Y house price of unit area                         0.125001     -0.174232   \n",
       "\n",
       "                                        X3 distance to the nearest MRT station  \\\n",
       "X1 transaction date                                                   0.028306   \n",
       "X2 house age                                                          0.011579   \n",
       "X3 distance to the nearest MRT station                                1.000000   \n",
       "X4 number of convenience stores                                      -0.619134   \n",
       "X5 latitude                                                          -0.587114   \n",
       "X6 longitude                                                         -0.779130   \n",
       "Y house price of unit area                                           -0.778382   \n",
       "\n",
       "                                        X4 number of convenience stores  \\\n",
       "X1 transaction date                                            0.026488   \n",
       "X2 house age                                                   0.093652   \n",
       "X3 distance to the nearest MRT station                        -0.619134   \n",
       "X4 number of convenience stores                                1.000000   \n",
       "X5 latitude                                                    0.465927   \n",
       "X6 longitude                                                   0.421933   \n",
       "Y house price of unit area                                     0.602795   \n",
       "\n",
       "                                        X5 latitude  X6 longitude  \\\n",
       "X1 transaction date                        0.100413     -0.023486   \n",
       "X2 house age                               0.075280     -0.022327   \n",
       "X3 distance to the nearest MRT station    -0.587114     -0.779130   \n",
       "X4 number of convenience stores            0.465927      0.421933   \n",
       "X5 latitude                                1.000000      0.384123   \n",
       "X6 longitude                               0.384123      1.000000   \n",
       "Y house price of unit area                 0.648796      0.577637   \n",
       "\n",
       "                                        Y house price of unit area  \n",
       "X1 transaction date                                       0.125001  \n",
       "X2 house age                                             -0.174232  \n",
       "X3 distance to the nearest MRT station                   -0.778382  \n",
       "X4 number of convenience stores                           0.602795  \n",
       "X5 latitude                                               0.648796  \n",
       "X6 longitude                                              0.577637  \n",
       "Y house price of unit area                                1.000000  "
      ]
     },
     "execution_count": 10,
     "metadata": {},
     "output_type": "execute_result"
    }
   ],
   "source": [
    "# https://pandas.pydata.org/pandas-docs/stable/user_guide/merging.html\n",
    "# .concat()\n",
    "# .corr()\n",
    "\n",
    "# pd.concat([X_train, y_train], axis=1).corr()\n",
    "\n",
    "df_train = pd.concat([X_train, y_train], axis=1)\n",
    "df_train.corr()\n"
   ]
  },
  {
   "cell_type": "markdown",
   "metadata": {},
   "source": [
    "If I use min correlation acceptable as +-0.4, then variables X3, X4, X5, X6 passed this criteria.\n",
    "However, I ignore X5 and X6, because longitude in itself or latitude in itself is not meaningful.\n",
    "\n",
    "It appears that the attributes \"X3 distance to the nearest MRT Station\" has a strong negative correlation with the target variable \"Y house price of unit area\". In other words, the further the distance to the nearest MRT, the lower the house price.\n",
    "\n",
    "X4 has medium positive correlation to the target, i.e. The more the number of convenience stores, the higher the house price.\n"
   ]
  },
  {
   "cell_type": "markdown",
   "metadata": {},
   "source": [
    "### scatter plot of high correlation features to check on linearity"
   ]
  },
  {
   "cell_type": "code",
   "execution_count": 11,
   "metadata": {},
   "outputs": [
    {
     "data": {
      "text/plain": [
       "<matplotlib.axes._subplots.AxesSubplot at 0x7f4904fda5c0>"
      ]
     },
     "execution_count": 11,
     "metadata": {},
     "output_type": "execute_result"
    },
    {
     "data": {
      "image/png": "[encoded data removed]",
      "text/plain": [
       "<Figure size 432x288 with 1 Axes>"
      ]
     },
     "metadata": {
      "needs_background": "light"
     },
     "output_type": "display_data"
    }
   ],
   "source": [
    "# X3 distance from MRT vs House Price\n",
    "df_train.plot.scatter(x=x3,y=target)"
   ]
  },
  {
   "cell_type": "markdown",
   "metadata": {},
   "source": [
    "There are a few outliers and the graph shows a roughly linear negative correlation. It is possible to use linear correlation algorithm, however, we still need to look at the graphs of the other variables."
   ]
  },
  {
   "cell_type": "code",
   "execution_count": 12,
   "metadata": {},
   "outputs": [
    {
     "data": {
      "text/plain": [
       "<matplotlib.axes._subplots.AxesSubplot at 0x7f4904fbe7b8>"
      ]
     },
     "execution_count": 12,
     "metadata": {},
     "output_type": "execute_result"
    },
    {
     "data": {
      "image/png": "[encoded data removed]",
      "text/plain": [
       "<Figure size 432x288 with 1 Axes>"
      ]
     },
     "metadata": {
      "needs_background": "light"
     },
     "output_type": "display_data"
    }
   ],
   "source": [
    "# X4 Number of convenience stores vs House Price\n",
    "df_train.plot.scatter(x=x4,y=target)"
   ]
  },
  {
   "cell_type": "markdown",
   "metadata": {},
   "source": [
    "The graph shows a roughly positive linear pattern although there are clear breaks due to the fact that the number of convenience stores is a discrete value. When the number of convenience stores are more, the house price per unit area tends to cluster around a higher price point, positive correlation."
   ]
  },
  {
   "cell_type": "markdown",
   "metadata": {},
   "source": [
    "# Feature Engineering\n",
    "not specific to any machine learning model"
   ]
  },
  {
   "cell_type": "markdown",
   "metadata": {},
   "source": [
    "### latitude and longitude"
   ]
  },
  {
   "cell_type": "code",
   "execution_count": 13,
   "metadata": {},
   "outputs": [
    {
     "name": "stdout",
     "output_type": "stream",
     "text": [
      "\n",
      "Longtitute and Latitude are meaningful only when used together as a \"location\".\n",
      "Hence, I combined \"longtitude\" and \"latitude\" into one feature\n",
      "\n",
      "After creating a geohash for latitude and longitute, the columns of the data frame \"df_X\"\n",
      "which is the dataset containing features ONLY is:\n",
      "\n",
      "Index(['No', 'X1 transaction date', 'X2 house age',\n",
      "       'X3 distance to the nearest MRT station',\n",
      "       'X4 number of convenience stores', 'X5 geoHash'],\n",
      "      dtype='object')\n",
      "\n",
      "\n",
      "And a sample observation is: \n",
      "      No  X1 transaction date  X2 house age  \\\n",
      "284  285             2012.917          15.0   \n",
      "\n",
      "     X3 distance to the nearest MRT station  X4 number of convenience stores  \\\n",
      "284                                383.2805                                7   \n",
      "\n",
      "       X5 geoHash  \n",
      "284  wsqqjc4j77kk  \n",
      "\n",
      "\n",
      "But in geoHashing latitude and longtitude, I have created a non-numeric categorical column, which may\n",
      " not work well with some ML models or require further transformation in order to do so.\n"
     ]
    }
   ],
   "source": [
    "print('\\nLongtitute and Latitude are meaningful only when used together as a \"location\".')\n",
    "print('Hence, I combined \"longtitude\" and \"latitude\" into one feature')\n",
    "\n",
    "df['X5 geoHash'] = df.apply(lambda row: geohash2.encode(row['X5 latitude'],row['X6 longitude']),axis=1)\n",
    "\n",
    "features = list(df.columns)\n",
    "\n",
    "features.remove('X5 latitude')\n",
    "features.remove('X6 longitude')\n",
    "features.remove('Y house price of unit area')\n",
    "\n",
    "print('\\nAfter creating a geohash for latitude and longitute, the columns of the data frame \"df_X\"')\n",
    "print('which is the dataset containing features ONLY is:\\n')\n",
    "df_X = df[features] \n",
    "print(df_X.columns)\n",
    "\n",
    "print('\\n\\nAnd a sample observation is: \\n{}'.format(df_X.sample(1)))\n",
    "\n",
    "print('\\n\\nBut in geoHashing latitude and longtitude, I have created a non-numeric categorical column, which may')\n",
    "print(' not work well with some ML models or require further transformation in order to do so.')\n"
   ]
  },
  {
   "cell_type": "markdown",
   "metadata": {},
   "source": []
  },
  {
   "cell_type": "markdown",
   "metadata": {},
   "source": [
    "# Box plot"
   ]
  },
  {
   "cell_type": "code",
   "execution_count": 14,
   "metadata": {},
   "outputs": [
    {
     "data": {
      "text/plain": [
       "<matplotlib.axes._subplots.AxesSubplot at 0x7f4904f12898>"
      ]
     },
     "execution_count": 14,
     "metadata": {},
     "output_type": "execute_result"
    },
    {
     "data": {
      "image/png": "[encoded data removed]",
      "text/plain": [
       "<Figure size 1008x432 with 1 Axes>"
      ]
     },
     "metadata": {
      "needs_background": "light"
     },
     "output_type": "display_data"
    }
   ],
   "source": [
    "figure, axes = plt.subplots(figsize = (14,6))\n",
    "plt.tight_layout()\n",
    "X_train.boxplot()"
   ]
  },
  {
   "cell_type": "markdown",
   "metadata": {},
   "source": [
    "The range of \"X3 Distance to the nearest MRT\" is huge compared to the other variables and it is better to scaled all the variables using SKLearn standardscaler() to increase the performance of the Machine Learning model."
   ]
  },
  {
   "cell_type": "markdown",
   "metadata": {},
   "source": [
    "### Scaling\n",
    "As seen by the above box plot, some features can have very different ranges i.e. 0 to 10 (convenience stores) vs 0 to 6000 (distance to mrt), it is better to scale the features."
   ]
  },
  {
   "cell_type": "code",
   "execution_count": 15,
   "metadata": {},
   "outputs": [
    {
     "name": "stdout",
     "output_type": "stream",
     "text": [
      "Unscaled\n",
      "***************\n",
      "Mean of Unscaled Features of X_train: X1 transaction date                       2013.149534\n",
      "X2 house age                                17.010108\n",
      "X3 distance to the nearest MRT station    1153.092988\n",
      "X4 number of convenience stores              3.981949\n",
      "X5 latitude                                 24.968888\n",
      "X6 longitude                               121.532962\n",
      "dtype: float64\n",
      "\n",
      "Standard Deviation of Unscaled Features of X_train: X1 transaction date                          0.277300\n",
      "X2 house age                                11.285493\n",
      "X3 distance to the nearest MRT station    1294.774376\n",
      "X4 number of convenience stores              2.966059\n",
      "X5 latitude                                  0.012734\n",
      "X6 longitude                                 0.015838\n",
      "dtype: float64\n",
      "****************************************************************************************************\n",
      "\n",
      "Scaled\n",
      "***************\n",
      "\n",
      "Mean of Scaled Features of X_train_scaled: X1 transaction date                      -1.441567e-12\n",
      "X2 house age                              3.151560e-16\n",
      "X3 distance to the nearest MRT station    4.208427e-17\n",
      "X4 number of convenience stores          -2.965939e-17\n",
      "X5 latitude                              -1.490929e-13\n",
      "X6 longitude                             -3.400922e-13\n",
      "dtype: float64\n",
      "\n",
      "Standard Deviation of Scaled Features of X_train_scaled: X1 transaction date                       1.0\n",
      "X2 house age                              1.0\n",
      "X3 distance to the nearest MRT station    1.0\n",
      "X4 number of convenience stores           1.0\n",
      "X5 latitude                               1.0\n",
      "X6 longitude                              1.0\n",
      "dtype: float64\n"
     ]
    }
   ],
   "source": [
    "# Standard Scaler assumes that data is normally distributed\n",
    "\n",
    "def warn(*args, **kwargs):\n",
    "    pass\n",
    "import warnings\n",
    "warnings.warn = warn\n",
    "\n",
    "\n",
    "# Print the mean and standard deviation of the unscaled features\n",
    "print('Unscaled')\n",
    "print('*'*15)\n",
    "print(\"Mean of Unscaled Features of X_train: {}\".format(np.mean(X_train))) \n",
    "print(\"\\nStandard Deviation of Unscaled Features of X_train: {}\".format(np.std(X_train)))\n",
    "\n",
    "features = X_train.columns\n",
    "\n",
    "scaler = StandardScaler()\n",
    "X_train_scaled = scaler.fit_transform(X_train)\n",
    "X_train_scaled = pd.DataFrame(X_train_scaled, columns=features)\n",
    "\n",
    "print('*'*100)\n",
    "# Print the mean and standard deviation of the scaled features\n",
    "print('\\nScaled')\n",
    "print('*'*15)\n",
    "\n",
    "print(\"\\nMean of Scaled Features of X_train_scaled: {}\".format(np.mean(X_train_scaled))) \n",
    "print(\"\\nStandard Deviation of Scaled Features of X_train_scaled: {}\".format(np.std(X_train_scaled)))\n",
    "\n"
   ]
  }
 ],
 "metadata": {
  "kernelspec": {
   "display_name": "Python 3",
   "language": "python",
   "name": "python3"
  },
  "language_info": {
   "codemirror_mode": {
    "name": "ipython",
    "version": 3
   },
   "file_extension": ".py",
   "mimetype": "text/x-python",
   "name": "python",
   "nbconvert_exporter": "python",
   "pygments_lexer": "ipython3",
   "version": "3.6.8"
  }
 },
 "nbformat": 4,
 "nbformat_minor": 2
}
